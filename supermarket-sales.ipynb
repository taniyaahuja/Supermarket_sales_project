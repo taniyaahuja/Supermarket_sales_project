{
 "cells": [
  {
   "cell_type": "markdown",
   "id": "a3e0ced3",
   "metadata": {
    "papermill": {
     "duration": 0.010289,
     "end_time": "2024-02-06T20:01:28.618765",
     "exception": false,
     "start_time": "2024-02-06T20:01:28.608476",
     "status": "completed"
    },
    "tags": []
   },
   "source": [
    "**Importing necessary libraries**"
   ]
  },
  {
   "cell_type": "code",
   "execution_count": 1,
   "id": "aac2357c",
   "metadata": {
    "execution": {
     "iopub.execute_input": "2024-02-06T20:01:28.640737Z",
     "iopub.status.busy": "2024-02-06T20:01:28.640057Z",
     "iopub.status.idle": "2024-02-06T20:01:29.691554Z",
     "shell.execute_reply": "2024-02-06T20:01:29.690181Z"
    },
    "papermill": {
     "duration": 1.065464,
     "end_time": "2024-02-06T20:01:29.694287",
     "exception": false,
     "start_time": "2024-02-06T20:01:28.628823",
     "status": "completed"
    },
    "tags": []
   },
   "outputs": [],
   "source": [
    "import numpy as np # linear algebra\n",
    "import pandas as pd # data processing, CSV file I/O (e.g. pd.read_csv)\n",
    "import matplotlib.pyplot as plt # data visualisation"
   ]
  },
  {
   "cell_type": "markdown",
   "id": "9c37fd8f",
   "metadata": {
    "papermill": {
     "duration": 0.012773,
     "end_time": "2024-02-06T20:01:29.719065",
     "exception": false,
     "start_time": "2024-02-06T20:01:29.706292",
     "status": "completed"
    },
    "tags": []
   },
   "source": [
    "**We load the dataset \"Supermarket sales\"**"
   ]
  },
  {
   "cell_type": "code",
   "execution_count": 2,
   "id": "75795dc8",
   "metadata": {
    "execution": {
     "iopub.execute_input": "2024-02-06T20:01:29.745865Z",
     "iopub.status.busy": "2024-02-06T20:01:29.744476Z",
     "iopub.status.idle": "2024-02-06T20:01:29.778810Z",
     "shell.execute_reply": "2024-02-06T20:01:29.777857Z"
    },
    "papermill": {
     "duration": 0.051306,
     "end_time": "2024-02-06T20:01:29.781620",
     "exception": false,
     "start_time": "2024-02-06T20:01:29.730314",
     "status": "completed"
    },
    "tags": []
   },
   "outputs": [],
   "source": [
    "a= pd.read_csv(\"/kaggle/input/supermarket-sales/supermarket_sales - Sheet1.csv\")"
   ]
  },
  {
   "cell_type": "markdown",
   "id": "5c7754e6",
   "metadata": {
    "papermill": {
     "duration": 0.012471,
     "end_time": "2024-02-06T20:01:29.808421",
     "exception": false,
     "start_time": "2024-02-06T20:01:29.795950",
     "status": "completed"
    },
    "tags": []
   },
   "source": [
    "**Displaying the first 5 rows of the dataset to understand the data better.**"
   ]
  },
  {
   "cell_type": "code",
   "execution_count": 3,
   "id": "e00ab78f",
   "metadata": {
    "execution": {
     "iopub.execute_input": "2024-02-06T20:01:29.836495Z",
     "iopub.status.busy": "2024-02-06T20:01:29.835512Z",
     "iopub.status.idle": "2024-02-06T20:01:29.870915Z",
     "shell.execute_reply": "2024-02-06T20:01:29.869766Z"
    },
    "papermill": {
     "duration": 0.051532,
     "end_time": "2024-02-06T20:01:29.873234",
     "exception": false,
     "start_time": "2024-02-06T20:01:29.821702",
     "status": "completed"
    },
    "tags": []
   },
   "outputs": [
    {
     "data": {
      "text/html": [
       "<div>\n",
       "<style scoped>\n",
       "    .dataframe tbody tr th:only-of-type {\n",
       "        vertical-align: middle;\n",
       "    }\n",
       "\n",
       "    .dataframe tbody tr th {\n",
       "        vertical-align: top;\n",
       "    }\n",
       "\n",
       "    .dataframe thead th {\n",
       "        text-align: right;\n",
       "    }\n",
       "</style>\n",
       "<table border=\"1\" class=\"dataframe\">\n",
       "  <thead>\n",
       "    <tr style=\"text-align: right;\">\n",
       "      <th></th>\n",
       "      <th>Invoice ID</th>\n",
       "      <th>Branch</th>\n",
       "      <th>City</th>\n",
       "      <th>Customer type</th>\n",
       "      <th>Gender</th>\n",
       "      <th>Product line</th>\n",
       "      <th>Unit price</th>\n",
       "      <th>Quantity</th>\n",
       "      <th>Tax 5%</th>\n",
       "      <th>Total</th>\n",
       "      <th>Date</th>\n",
       "      <th>Time</th>\n",
       "      <th>Payment</th>\n",
       "      <th>cogs</th>\n",
       "      <th>gross margin percentage</th>\n",
       "      <th>gross income</th>\n",
       "      <th>Rating</th>\n",
       "    </tr>\n",
       "  </thead>\n",
       "  <tbody>\n",
       "    <tr>\n",
       "      <th>0</th>\n",
       "      <td>750-67-8428</td>\n",
       "      <td>A</td>\n",
       "      <td>Yangon</td>\n",
       "      <td>Member</td>\n",
       "      <td>Female</td>\n",
       "      <td>Health and beauty</td>\n",
       "      <td>74.69</td>\n",
       "      <td>7</td>\n",
       "      <td>26.1415</td>\n",
       "      <td>548.9715</td>\n",
       "      <td>1/5/2019</td>\n",
       "      <td>13:08</td>\n",
       "      <td>Ewallet</td>\n",
       "      <td>522.83</td>\n",
       "      <td>4.761905</td>\n",
       "      <td>26.1415</td>\n",
       "      <td>9.1</td>\n",
       "    </tr>\n",
       "    <tr>\n",
       "      <th>1</th>\n",
       "      <td>226-31-3081</td>\n",
       "      <td>C</td>\n",
       "      <td>Naypyitaw</td>\n",
       "      <td>Normal</td>\n",
       "      <td>Female</td>\n",
       "      <td>Electronic accessories</td>\n",
       "      <td>15.28</td>\n",
       "      <td>5</td>\n",
       "      <td>3.8200</td>\n",
       "      <td>80.2200</td>\n",
       "      <td>3/8/2019</td>\n",
       "      <td>10:29</td>\n",
       "      <td>Cash</td>\n",
       "      <td>76.40</td>\n",
       "      <td>4.761905</td>\n",
       "      <td>3.8200</td>\n",
       "      <td>9.6</td>\n",
       "    </tr>\n",
       "    <tr>\n",
       "      <th>2</th>\n",
       "      <td>631-41-3108</td>\n",
       "      <td>A</td>\n",
       "      <td>Yangon</td>\n",
       "      <td>Normal</td>\n",
       "      <td>Male</td>\n",
       "      <td>Home and lifestyle</td>\n",
       "      <td>46.33</td>\n",
       "      <td>7</td>\n",
       "      <td>16.2155</td>\n",
       "      <td>340.5255</td>\n",
       "      <td>3/3/2019</td>\n",
       "      <td>13:23</td>\n",
       "      <td>Credit card</td>\n",
       "      <td>324.31</td>\n",
       "      <td>4.761905</td>\n",
       "      <td>16.2155</td>\n",
       "      <td>7.4</td>\n",
       "    </tr>\n",
       "    <tr>\n",
       "      <th>3</th>\n",
       "      <td>123-19-1176</td>\n",
       "      <td>A</td>\n",
       "      <td>Yangon</td>\n",
       "      <td>Member</td>\n",
       "      <td>Male</td>\n",
       "      <td>Health and beauty</td>\n",
       "      <td>58.22</td>\n",
       "      <td>8</td>\n",
       "      <td>23.2880</td>\n",
       "      <td>489.0480</td>\n",
       "      <td>1/27/2019</td>\n",
       "      <td>20:33</td>\n",
       "      <td>Ewallet</td>\n",
       "      <td>465.76</td>\n",
       "      <td>4.761905</td>\n",
       "      <td>23.2880</td>\n",
       "      <td>8.4</td>\n",
       "    </tr>\n",
       "    <tr>\n",
       "      <th>4</th>\n",
       "      <td>373-73-7910</td>\n",
       "      <td>A</td>\n",
       "      <td>Yangon</td>\n",
       "      <td>Normal</td>\n",
       "      <td>Male</td>\n",
       "      <td>Sports and travel</td>\n",
       "      <td>86.31</td>\n",
       "      <td>7</td>\n",
       "      <td>30.2085</td>\n",
       "      <td>634.3785</td>\n",
       "      <td>2/8/2019</td>\n",
       "      <td>10:37</td>\n",
       "      <td>Ewallet</td>\n",
       "      <td>604.17</td>\n",
       "      <td>4.761905</td>\n",
       "      <td>30.2085</td>\n",
       "      <td>5.3</td>\n",
       "    </tr>\n",
       "  </tbody>\n",
       "</table>\n",
       "</div>"
      ],
      "text/plain": [
       "    Invoice ID Branch       City Customer type  Gender  \\\n",
       "0  750-67-8428      A     Yangon        Member  Female   \n",
       "1  226-31-3081      C  Naypyitaw        Normal  Female   \n",
       "2  631-41-3108      A     Yangon        Normal    Male   \n",
       "3  123-19-1176      A     Yangon        Member    Male   \n",
       "4  373-73-7910      A     Yangon        Normal    Male   \n",
       "\n",
       "             Product line  Unit price  Quantity   Tax 5%     Total       Date  \\\n",
       "0       Health and beauty       74.69         7  26.1415  548.9715   1/5/2019   \n",
       "1  Electronic accessories       15.28         5   3.8200   80.2200   3/8/2019   \n",
       "2      Home and lifestyle       46.33         7  16.2155  340.5255   3/3/2019   \n",
       "3       Health and beauty       58.22         8  23.2880  489.0480  1/27/2019   \n",
       "4       Sports and travel       86.31         7  30.2085  634.3785   2/8/2019   \n",
       "\n",
       "    Time      Payment    cogs  gross margin percentage  gross income  Rating  \n",
       "0  13:08      Ewallet  522.83                 4.761905       26.1415     9.1  \n",
       "1  10:29         Cash   76.40                 4.761905        3.8200     9.6  \n",
       "2  13:23  Credit card  324.31                 4.761905       16.2155     7.4  \n",
       "3  20:33      Ewallet  465.76                 4.761905       23.2880     8.4  \n",
       "4  10:37      Ewallet  604.17                 4.761905       30.2085     5.3  "
      ]
     },
     "execution_count": 3,
     "metadata": {},
     "output_type": "execute_result"
    }
   ],
   "source": [
    "a.head()\n",
    "\n",
    "\n",
    "#Understanding the data:\n",
    "# 1. (unit price * quantity) == cogs\n",
    "# 2. tax 5% == gross income"
   ]
  },
  {
   "cell_type": "markdown",
   "id": "1d7d6884",
   "metadata": {
    "papermill": {
     "duration": 0.009984,
     "end_time": "2024-02-06T20:01:29.893584",
     "exception": false,
     "start_time": "2024-02-06T20:01:29.883600",
     "status": "completed"
    },
    "tags": []
   },
   "source": [
    "**Basic information about the dataset**"
   ]
  },
  {
   "cell_type": "code",
   "execution_count": 4,
   "id": "b57d2ada",
   "metadata": {
    "execution": {
     "iopub.execute_input": "2024-02-06T20:01:29.915484Z",
     "iopub.status.busy": "2024-02-06T20:01:29.915128Z",
     "iopub.status.idle": "2024-02-06T20:01:29.947241Z",
     "shell.execute_reply": "2024-02-06T20:01:29.946241Z"
    },
    "papermill": {
     "duration": 0.045797,
     "end_time": "2024-02-06T20:01:29.949480",
     "exception": false,
     "start_time": "2024-02-06T20:01:29.903683",
     "status": "completed"
    },
    "tags": []
   },
   "outputs": [
    {
     "name": "stdout",
     "output_type": "stream",
     "text": [
      "<class 'pandas.core.frame.DataFrame'>\n",
      "RangeIndex: 1000 entries, 0 to 999\n",
      "Data columns (total 17 columns):\n",
      " #   Column                   Non-Null Count  Dtype  \n",
      "---  ------                   --------------  -----  \n",
      " 0   Invoice ID               1000 non-null   object \n",
      " 1   Branch                   1000 non-null   object \n",
      " 2   City                     1000 non-null   object \n",
      " 3   Customer type            1000 non-null   object \n",
      " 4   Gender                   1000 non-null   object \n",
      " 5   Product line             1000 non-null   object \n",
      " 6   Unit price               1000 non-null   float64\n",
      " 7   Quantity                 1000 non-null   int64  \n",
      " 8   Tax 5%                   1000 non-null   float64\n",
      " 9   Total                    1000 non-null   float64\n",
      " 10  Date                     1000 non-null   object \n",
      " 11  Time                     1000 non-null   object \n",
      " 12  Payment                  1000 non-null   object \n",
      " 13  cogs                     1000 non-null   float64\n",
      " 14  gross margin percentage  1000 non-null   float64\n",
      " 15  gross income             1000 non-null   float64\n",
      " 16  Rating                   1000 non-null   float64\n",
      "dtypes: float64(7), int64(1), object(9)\n",
      "memory usage: 132.9+ KB\n"
     ]
    }
   ],
   "source": [
    "a.info()"
   ]
  },
  {
   "cell_type": "code",
   "execution_count": 5,
   "id": "45294414",
   "metadata": {
    "execution": {
     "iopub.execute_input": "2024-02-06T20:01:29.973236Z",
     "iopub.status.busy": "2024-02-06T20:01:29.972836Z",
     "iopub.status.idle": "2024-02-06T20:01:30.008654Z",
     "shell.execute_reply": "2024-02-06T20:01:30.007364Z"
    },
    "papermill": {
     "duration": 0.051111,
     "end_time": "2024-02-06T20:01:30.011288",
     "exception": false,
     "start_time": "2024-02-06T20:01:29.960177",
     "status": "completed"
    },
    "tags": []
   },
   "outputs": [
    {
     "data": {
      "text/html": [
       "<div>\n",
       "<style scoped>\n",
       "    .dataframe tbody tr th:only-of-type {\n",
       "        vertical-align: middle;\n",
       "    }\n",
       "\n",
       "    .dataframe tbody tr th {\n",
       "        vertical-align: top;\n",
       "    }\n",
       "\n",
       "    .dataframe thead th {\n",
       "        text-align: right;\n",
       "    }\n",
       "</style>\n",
       "<table border=\"1\" class=\"dataframe\">\n",
       "  <thead>\n",
       "    <tr style=\"text-align: right;\">\n",
       "      <th></th>\n",
       "      <th>Unit price</th>\n",
       "      <th>Quantity</th>\n",
       "      <th>Tax 5%</th>\n",
       "      <th>Total</th>\n",
       "      <th>cogs</th>\n",
       "      <th>gross margin percentage</th>\n",
       "      <th>gross income</th>\n",
       "      <th>Rating</th>\n",
       "    </tr>\n",
       "  </thead>\n",
       "  <tbody>\n",
       "    <tr>\n",
       "      <th>count</th>\n",
       "      <td>1000.000000</td>\n",
       "      <td>1000.000000</td>\n",
       "      <td>1000.000000</td>\n",
       "      <td>1000.000000</td>\n",
       "      <td>1000.00000</td>\n",
       "      <td>1000.000000</td>\n",
       "      <td>1000.000000</td>\n",
       "      <td>1000.00000</td>\n",
       "    </tr>\n",
       "    <tr>\n",
       "      <th>mean</th>\n",
       "      <td>55.672130</td>\n",
       "      <td>5.510000</td>\n",
       "      <td>15.379369</td>\n",
       "      <td>322.966749</td>\n",
       "      <td>307.58738</td>\n",
       "      <td>4.761905</td>\n",
       "      <td>15.379369</td>\n",
       "      <td>6.97270</td>\n",
       "    </tr>\n",
       "    <tr>\n",
       "      <th>std</th>\n",
       "      <td>26.494628</td>\n",
       "      <td>2.923431</td>\n",
       "      <td>11.708825</td>\n",
       "      <td>245.885335</td>\n",
       "      <td>234.17651</td>\n",
       "      <td>0.000000</td>\n",
       "      <td>11.708825</td>\n",
       "      <td>1.71858</td>\n",
       "    </tr>\n",
       "    <tr>\n",
       "      <th>min</th>\n",
       "      <td>10.080000</td>\n",
       "      <td>1.000000</td>\n",
       "      <td>0.508500</td>\n",
       "      <td>10.678500</td>\n",
       "      <td>10.17000</td>\n",
       "      <td>4.761905</td>\n",
       "      <td>0.508500</td>\n",
       "      <td>4.00000</td>\n",
       "    </tr>\n",
       "    <tr>\n",
       "      <th>25%</th>\n",
       "      <td>32.875000</td>\n",
       "      <td>3.000000</td>\n",
       "      <td>5.924875</td>\n",
       "      <td>124.422375</td>\n",
       "      <td>118.49750</td>\n",
       "      <td>4.761905</td>\n",
       "      <td>5.924875</td>\n",
       "      <td>5.50000</td>\n",
       "    </tr>\n",
       "    <tr>\n",
       "      <th>50%</th>\n",
       "      <td>55.230000</td>\n",
       "      <td>5.000000</td>\n",
       "      <td>12.088000</td>\n",
       "      <td>253.848000</td>\n",
       "      <td>241.76000</td>\n",
       "      <td>4.761905</td>\n",
       "      <td>12.088000</td>\n",
       "      <td>7.00000</td>\n",
       "    </tr>\n",
       "    <tr>\n",
       "      <th>75%</th>\n",
       "      <td>77.935000</td>\n",
       "      <td>8.000000</td>\n",
       "      <td>22.445250</td>\n",
       "      <td>471.350250</td>\n",
       "      <td>448.90500</td>\n",
       "      <td>4.761905</td>\n",
       "      <td>22.445250</td>\n",
       "      <td>8.50000</td>\n",
       "    </tr>\n",
       "    <tr>\n",
       "      <th>max</th>\n",
       "      <td>99.960000</td>\n",
       "      <td>10.000000</td>\n",
       "      <td>49.650000</td>\n",
       "      <td>1042.650000</td>\n",
       "      <td>993.00000</td>\n",
       "      <td>4.761905</td>\n",
       "      <td>49.650000</td>\n",
       "      <td>10.00000</td>\n",
       "    </tr>\n",
       "  </tbody>\n",
       "</table>\n",
       "</div>"
      ],
      "text/plain": [
       "        Unit price     Quantity       Tax 5%        Total        cogs  \\\n",
       "count  1000.000000  1000.000000  1000.000000  1000.000000  1000.00000   \n",
       "mean     55.672130     5.510000    15.379369   322.966749   307.58738   \n",
       "std      26.494628     2.923431    11.708825   245.885335   234.17651   \n",
       "min      10.080000     1.000000     0.508500    10.678500    10.17000   \n",
       "25%      32.875000     3.000000     5.924875   124.422375   118.49750   \n",
       "50%      55.230000     5.000000    12.088000   253.848000   241.76000   \n",
       "75%      77.935000     8.000000    22.445250   471.350250   448.90500   \n",
       "max      99.960000    10.000000    49.650000  1042.650000   993.00000   \n",
       "\n",
       "       gross margin percentage  gross income      Rating  \n",
       "count              1000.000000   1000.000000  1000.00000  \n",
       "mean                  4.761905     15.379369     6.97270  \n",
       "std                   0.000000     11.708825     1.71858  \n",
       "min                   4.761905      0.508500     4.00000  \n",
       "25%                   4.761905      5.924875     5.50000  \n",
       "50%                   4.761905     12.088000     7.00000  \n",
       "75%                   4.761905     22.445250     8.50000  \n",
       "max                   4.761905     49.650000    10.00000  "
      ]
     },
     "execution_count": 5,
     "metadata": {},
     "output_type": "execute_result"
    }
   ],
   "source": [
    "a.describe()     #Statistical description"
   ]
  },
  {
   "cell_type": "markdown",
   "id": "0e5b2738",
   "metadata": {
    "papermill": {
     "duration": 0.012453,
     "end_time": "2024-02-06T20:01:30.038928",
     "exception": false,
     "start_time": "2024-02-06T20:01:30.026475",
     "status": "completed"
    },
    "tags": []
   },
   "source": [
    "# Data Cleaning"
   ]
  },
  {
   "cell_type": "markdown",
   "id": "67353ee1",
   "metadata": {
    "papermill": {
     "duration": 0.011673,
     "end_time": "2024-02-06T20:01:30.062936",
     "exception": false,
     "start_time": "2024-02-06T20:01:30.051263",
     "status": "completed"
    },
    "tags": []
   },
   "source": [
    "**Checking for null values in the dataset**"
   ]
  },
  {
   "cell_type": "code",
   "execution_count": 6,
   "id": "ac16bf3f",
   "metadata": {
    "execution": {
     "iopub.execute_input": "2024-02-06T20:01:30.155089Z",
     "iopub.status.busy": "2024-02-06T20:01:30.154587Z",
     "iopub.status.idle": "2024-02-06T20:01:30.164146Z",
     "shell.execute_reply": "2024-02-06T20:01:30.162957Z"
    },
    "papermill": {
     "duration": 0.024003,
     "end_time": "2024-02-06T20:01:30.166117",
     "exception": false,
     "start_time": "2024-02-06T20:01:30.142114",
     "status": "completed"
    },
    "tags": []
   },
   "outputs": [
    {
     "data": {
      "text/plain": [
       "Invoice ID                 0\n",
       "Branch                     0\n",
       "City                       0\n",
       "Customer type              0\n",
       "Gender                     0\n",
       "Product line               0\n",
       "Unit price                 0\n",
       "Quantity                   0\n",
       "Tax 5%                     0\n",
       "Total                      0\n",
       "Date                       0\n",
       "Time                       0\n",
       "Payment                    0\n",
       "cogs                       0\n",
       "gross margin percentage    0\n",
       "gross income               0\n",
       "Rating                     0\n",
       "dtype: int64"
      ]
     },
     "execution_count": 6,
     "metadata": {},
     "output_type": "execute_result"
    }
   ],
   "source": [
    "mask1= a.isnull().sum()\n",
    "mask1"
   ]
  },
  {
   "cell_type": "markdown",
   "id": "10c0345f",
   "metadata": {
    "papermill": {
     "duration": 0.01084,
     "end_time": "2024-02-06T20:01:30.188188",
     "exception": false,
     "start_time": "2024-02-06T20:01:30.177348",
     "status": "completed"
    },
    "tags": []
   },
   "source": [
    "**Checking for duplicated values in the dataset**"
   ]
  },
  {
   "cell_type": "code",
   "execution_count": 7,
   "id": "7a8e11cf",
   "metadata": {
    "execution": {
     "iopub.execute_input": "2024-02-06T20:01:30.213053Z",
     "iopub.status.busy": "2024-02-06T20:01:30.212642Z",
     "iopub.status.idle": "2024-02-06T20:01:30.231742Z",
     "shell.execute_reply": "2024-02-06T20:01:30.230807Z"
    },
    "papermill": {
     "duration": 0.034157,
     "end_time": "2024-02-06T20:01:30.233702",
     "exception": false,
     "start_time": "2024-02-06T20:01:30.199545",
     "status": "completed"
    },
    "tags": []
   },
   "outputs": [
    {
     "data": {
      "text/html": [
       "<div>\n",
       "<style scoped>\n",
       "    .dataframe tbody tr th:only-of-type {\n",
       "        vertical-align: middle;\n",
       "    }\n",
       "\n",
       "    .dataframe tbody tr th {\n",
       "        vertical-align: top;\n",
       "    }\n",
       "\n",
       "    .dataframe thead th {\n",
       "        text-align: right;\n",
       "    }\n",
       "</style>\n",
       "<table border=\"1\" class=\"dataframe\">\n",
       "  <thead>\n",
       "    <tr style=\"text-align: right;\">\n",
       "      <th></th>\n",
       "      <th>Invoice ID</th>\n",
       "      <th>Branch</th>\n",
       "      <th>City</th>\n",
       "      <th>Customer type</th>\n",
       "      <th>Gender</th>\n",
       "      <th>Product line</th>\n",
       "      <th>Unit price</th>\n",
       "      <th>Quantity</th>\n",
       "      <th>Tax 5%</th>\n",
       "      <th>Total</th>\n",
       "      <th>Date</th>\n",
       "      <th>Time</th>\n",
       "      <th>Payment</th>\n",
       "      <th>cogs</th>\n",
       "      <th>gross margin percentage</th>\n",
       "      <th>gross income</th>\n",
       "      <th>Rating</th>\n",
       "    </tr>\n",
       "  </thead>\n",
       "  <tbody>\n",
       "  </tbody>\n",
       "</table>\n",
       "</div>"
      ],
      "text/plain": [
       "Empty DataFrame\n",
       "Columns: [Invoice ID, Branch, City, Customer type, Gender, Product line, Unit price, Quantity, Tax 5%, Total, Date, Time, Payment, cogs, gross margin percentage, gross income, Rating]\n",
       "Index: []"
      ]
     },
     "execution_count": 7,
     "metadata": {},
     "output_type": "execute_result"
    }
   ],
   "source": [
    "mask2= a.duplicated()\n",
    "a[mask2]"
   ]
  },
  {
   "cell_type": "markdown",
   "id": "f842135a",
   "metadata": {
    "papermill": {
     "duration": 0.010873,
     "end_time": "2024-02-06T20:01:30.256476",
     "exception": false,
     "start_time": "2024-02-06T20:01:30.245603",
     "status": "completed"
    },
    "tags": []
   },
   "source": [
    "**We check for unique values and then change the data type of relevant columns so as to reduce memory usage**"
   ]
  },
  {
   "cell_type": "code",
   "execution_count": 8,
   "id": "eee8d728",
   "metadata": {
    "execution": {
     "iopub.execute_input": "2024-02-06T20:01:30.281721Z",
     "iopub.status.busy": "2024-02-06T20:01:30.281130Z",
     "iopub.status.idle": "2024-02-06T20:01:30.288698Z",
     "shell.execute_reply": "2024-02-06T20:01:30.287648Z"
    },
    "papermill": {
     "duration": 0.022766,
     "end_time": "2024-02-06T20:01:30.290728",
     "exception": false,
     "start_time": "2024-02-06T20:01:30.267962",
     "status": "completed"
    },
    "tags": []
   },
   "outputs": [
    {
     "data": {
      "text/plain": [
       "array(['A', 'C', 'B'], dtype=object)"
      ]
     },
     "execution_count": 8,
     "metadata": {},
     "output_type": "execute_result"
    }
   ],
   "source": [
    "a[\"Branch\"].unique()"
   ]
  },
  {
   "cell_type": "code",
   "execution_count": 9,
   "id": "6f522ad2",
   "metadata": {
    "execution": {
     "iopub.execute_input": "2024-02-06T20:01:30.315431Z",
     "iopub.status.busy": "2024-02-06T20:01:30.314805Z",
     "iopub.status.idle": "2024-02-06T20:01:30.321803Z",
     "shell.execute_reply": "2024-02-06T20:01:30.320824Z"
    },
    "papermill": {
     "duration": 0.021795,
     "end_time": "2024-02-06T20:01:30.323963",
     "exception": false,
     "start_time": "2024-02-06T20:01:30.302168",
     "status": "completed"
    },
    "tags": []
   },
   "outputs": [
    {
     "data": {
      "text/plain": [
       "array(['Yangon', 'Naypyitaw', 'Mandalay'], dtype=object)"
      ]
     },
     "execution_count": 9,
     "metadata": {},
     "output_type": "execute_result"
    }
   ],
   "source": [
    "a[\"City\"].unique()"
   ]
  },
  {
   "cell_type": "code",
   "execution_count": 10,
   "id": "2c09f946",
   "metadata": {
    "execution": {
     "iopub.execute_input": "2024-02-06T20:01:30.352695Z",
     "iopub.status.busy": "2024-02-06T20:01:30.352309Z",
     "iopub.status.idle": "2024-02-06T20:01:30.358776Z",
     "shell.execute_reply": "2024-02-06T20:01:30.357619Z"
    },
    "papermill": {
     "duration": 0.023172,
     "end_time": "2024-02-06T20:01:30.360658",
     "exception": false,
     "start_time": "2024-02-06T20:01:30.337486",
     "status": "completed"
    },
    "tags": []
   },
   "outputs": [
    {
     "data": {
      "text/plain": [
       "array(['Ewallet', 'Cash', 'Credit card'], dtype=object)"
      ]
     },
     "execution_count": 10,
     "metadata": {},
     "output_type": "execute_result"
    }
   ],
   "source": [
    "a[\"Payment\"].unique()"
   ]
  },
  {
   "cell_type": "code",
   "execution_count": 11,
   "id": "7ea687d2",
   "metadata": {
    "execution": {
     "iopub.execute_input": "2024-02-06T20:01:30.391323Z",
     "iopub.status.busy": "2024-02-06T20:01:30.390728Z",
     "iopub.status.idle": "2024-02-06T20:01:30.408597Z",
     "shell.execute_reply": "2024-02-06T20:01:30.407144Z"
    },
    "papermill": {
     "duration": 0.036419,
     "end_time": "2024-02-06T20:01:30.411186",
     "exception": false,
     "start_time": "2024-02-06T20:01:30.374767",
     "status": "completed"
    },
    "tags": []
   },
   "outputs": [],
   "source": [
    "a[\"Branch\"]= a[\"Branch\"].astype(\"category\")\n",
    "a[\"City\"]= a[\"City\"].astype(\"category\")\n",
    "a[\"Customer type\"]= a[\"Customer type\"].astype(\"category\")\n",
    "a[\"Gender\"]= a[\"Gender\"].astype(\"category\")\n",
    "a[\"Payment\"]= a[\"Payment\"].astype(\"category\")\n",
    "a[\"Date\"]= pd.to_datetime(a[\"Date\"], format= \"%m/%d/%Y\")"
   ]
  },
  {
   "cell_type": "code",
   "execution_count": 12,
   "id": "31a26a56",
   "metadata": {
    "execution": {
     "iopub.execute_input": "2024-02-06T20:01:30.436692Z",
     "iopub.status.busy": "2024-02-06T20:01:30.436306Z",
     "iopub.status.idle": "2024-02-06T20:01:30.450428Z",
     "shell.execute_reply": "2024-02-06T20:01:30.449637Z"
    },
    "papermill": {
     "duration": 0.029476,
     "end_time": "2024-02-06T20:01:30.452619",
     "exception": false,
     "start_time": "2024-02-06T20:01:30.423143",
     "status": "completed"
    },
    "tags": []
   },
   "outputs": [
    {
     "name": "stdout",
     "output_type": "stream",
     "text": [
      "<class 'pandas.core.frame.DataFrame'>\n",
      "RangeIndex: 1000 entries, 0 to 999\n",
      "Data columns (total 17 columns):\n",
      " #   Column                   Non-Null Count  Dtype         \n",
      "---  ------                   --------------  -----         \n",
      " 0   Invoice ID               1000 non-null   object        \n",
      " 1   Branch                   1000 non-null   category      \n",
      " 2   City                     1000 non-null   category      \n",
      " 3   Customer type            1000 non-null   category      \n",
      " 4   Gender                   1000 non-null   category      \n",
      " 5   Product line             1000 non-null   object        \n",
      " 6   Unit price               1000 non-null   float64       \n",
      " 7   Quantity                 1000 non-null   int64         \n",
      " 8   Tax 5%                   1000 non-null   float64       \n",
      " 9   Total                    1000 non-null   float64       \n",
      " 10  Date                     1000 non-null   datetime64[ns]\n",
      " 11  Time                     1000 non-null   object        \n",
      " 12  Payment                  1000 non-null   category      \n",
      " 13  cogs                     1000 non-null   float64       \n",
      " 14  gross margin percentage  1000 non-null   float64       \n",
      " 15  gross income             1000 non-null   float64       \n",
      " 16  Rating                   1000 non-null   float64       \n",
      "dtypes: category(5), datetime64[ns](1), float64(7), int64(1), object(3)\n",
      "memory usage: 99.4+ KB\n"
     ]
    }
   ],
   "source": [
    "a.info()"
   ]
  },
  {
   "cell_type": "markdown",
   "id": "548c828d",
   "metadata": {
    "papermill": {
     "duration": 0.011271,
     "end_time": "2024-02-06T20:01:30.475560",
     "exception": false,
     "start_time": "2024-02-06T20:01:30.464289",
     "status": "completed"
    },
    "tags": []
   },
   "source": [
    "**Setting new index**"
   ]
  },
  {
   "cell_type": "code",
   "execution_count": 13,
   "id": "0c232361",
   "metadata": {
    "execution": {
     "iopub.execute_input": "2024-02-06T20:01:30.501201Z",
     "iopub.status.busy": "2024-02-06T20:01:30.500328Z",
     "iopub.status.idle": "2024-02-06T20:01:30.507095Z",
     "shell.execute_reply": "2024-02-06T20:01:30.505081Z"
    },
    "papermill": {
     "duration": 0.022809,
     "end_time": "2024-02-06T20:01:30.510034",
     "exception": false,
     "start_time": "2024-02-06T20:01:30.487225",
     "status": "completed"
    },
    "tags": []
   },
   "outputs": [],
   "source": [
    "a.set_index(\"Invoice ID\", inplace= True)"
   ]
  },
  {
   "cell_type": "markdown",
   "id": "e9745509",
   "metadata": {
    "papermill": {
     "duration": 0.01123,
     "end_time": "2024-02-06T20:01:30.533195",
     "exception": false,
     "start_time": "2024-02-06T20:01:30.521965",
     "status": "completed"
    },
    "tags": []
   },
   "source": [
    "**Sorting values**"
   ]
  },
  {
   "cell_type": "code",
   "execution_count": 14,
   "id": "4417bcaa",
   "metadata": {
    "execution": {
     "iopub.execute_input": "2024-02-06T20:01:30.558481Z",
     "iopub.status.busy": "2024-02-06T20:01:30.558116Z",
     "iopub.status.idle": "2024-02-06T20:01:30.565602Z",
     "shell.execute_reply": "2024-02-06T20:01:30.564366Z"
    },
    "papermill": {
     "duration": 0.023814,
     "end_time": "2024-02-06T20:01:30.568306",
     "exception": false,
     "start_time": "2024-02-06T20:01:30.544492",
     "status": "completed"
    },
    "tags": []
   },
   "outputs": [],
   "source": [
    "a.sort_values(\"Date\", inplace= True)"
   ]
  },
  {
   "cell_type": "markdown",
   "id": "71738d99",
   "metadata": {
    "papermill": {
     "duration": 0.011127,
     "end_time": "2024-02-06T20:01:30.591534",
     "exception": false,
     "start_time": "2024-02-06T20:01:30.580407",
     "status": "completed"
    },
    "tags": []
   },
   "source": [
    "# About the dataset"
   ]
  },
  {
   "cell_type": "markdown",
   "id": "65ea146f",
   "metadata": {
    "papermill": {
     "duration": 0.01151,
     "end_time": "2024-02-06T20:01:30.615482",
     "exception": false,
     "start_time": "2024-02-06T20:01:30.603972",
     "status": "completed"
    },
    "tags": []
   },
   "source": [
    "**We create a new column showing the per unit gross income earned**"
   ]
  },
  {
   "cell_type": "code",
   "execution_count": 15,
   "id": "3e6eefb6",
   "metadata": {
    "execution": {
     "iopub.execute_input": "2024-02-06T20:01:30.642451Z",
     "iopub.status.busy": "2024-02-06T20:01:30.641757Z",
     "iopub.status.idle": "2024-02-06T20:01:30.657956Z",
     "shell.execute_reply": "2024-02-06T20:01:30.656261Z"
    },
    "papermill": {
     "duration": 0.032149,
     "end_time": "2024-02-06T20:01:30.660566",
     "exception": false,
     "start_time": "2024-02-06T20:01:30.628417",
     "status": "completed"
    },
    "tags": []
   },
   "outputs": [
    {
     "name": "stdout",
     "output_type": "stream",
     "text": [
      "Invoice ID\n",
      "219-22-9386    4.9980\n",
      "148-41-7930    4.9980\n",
      "641-62-7288    4.9960\n",
      "437-53-3084    4.9945\n",
      "667-92-0055    4.9915\n",
      "Name: Per unit gross income, dtype: float64\n",
      "Invoice ID\n",
      "333-23-2632    0.5040\n",
      "239-48-4278    0.5065\n",
      "516-77-6464    0.5080\n",
      "784-21-9238    0.5085\n",
      "115-38-7388    0.5090\n",
      "Name: Per unit gross income, dtype: float64\n"
     ]
    }
   ],
   "source": [
    "a[\"Per unit gross income\"]= a[\"gross income\"] / a[\"Quantity\"]\n",
    "largest= a[\"Per unit gross income\"].nlargest(5)\n",
    "smallest = a[\"Per unit gross income\"].nsmallest(5)\n",
    "\n",
    "print(largest)\n",
    "print(smallest)"
   ]
  },
  {
   "cell_type": "markdown",
   "id": "66e7d04e",
   "metadata": {
    "papermill": {
     "duration": 0.011206,
     "end_time": "2024-02-06T20:01:30.683603",
     "exception": false,
     "start_time": "2024-02-06T20:01:30.672397",
     "status": "completed"
    },
    "tags": []
   },
   "source": [
    "**What is the Highest per unit gross income earned and from which product line?**"
   ]
  },
  {
   "cell_type": "code",
   "execution_count": 16,
   "id": "68381eb5",
   "metadata": {
    "execution": {
     "iopub.execute_input": "2024-02-06T20:01:30.711242Z",
     "iopub.status.busy": "2024-02-06T20:01:30.710635Z",
     "iopub.status.idle": "2024-02-06T20:01:30.718766Z",
     "shell.execute_reply": "2024-02-06T20:01:30.717626Z"
    },
    "papermill": {
     "duration": 0.026052,
     "end_time": "2024-02-06T20:01:30.721356",
     "exception": false,
     "start_time": "2024-02-06T20:01:30.695304",
     "status": "completed"
    },
    "tags": []
   },
   "outputs": [
    {
     "name": "stdout",
     "output_type": "stream",
     "text": [
      "Highest per unit gross income earned is 4.998 from the product line Sports and travel\n"
     ]
    }
   ],
   "source": [
    "abt1= a.loc[a[\"Per unit gross income\"].idxmax()]\n",
    "print(\"Highest per unit gross income earned is\", abt1[\"Per unit gross income\"], \"from the product line\", abt1[\"Product line\"])"
   ]
  },
  {
   "cell_type": "markdown",
   "id": "52b2e782",
   "metadata": {
    "papermill": {
     "duration": 0.012757,
     "end_time": "2024-02-06T20:01:30.745924",
     "exception": false,
     "start_time": "2024-02-06T20:01:30.733167",
     "status": "completed"
    },
    "tags": []
   },
   "source": [
    "**What is the Lowest per unit gross income earned and from which product line?**"
   ]
  },
  {
   "cell_type": "code",
   "execution_count": 17,
   "id": "3fa91c3e",
   "metadata": {
    "execution": {
     "iopub.execute_input": "2024-02-06T20:01:30.771620Z",
     "iopub.status.busy": "2024-02-06T20:01:30.770756Z",
     "iopub.status.idle": "2024-02-06T20:01:30.778125Z",
     "shell.execute_reply": "2024-02-06T20:01:30.776668Z"
    },
    "papermill": {
     "duration": 0.02343,
     "end_time": "2024-02-06T20:01:30.781067",
     "exception": false,
     "start_time": "2024-02-06T20:01:30.757637",
     "status": "completed"
    },
    "tags": []
   },
   "outputs": [
    {
     "name": "stdout",
     "output_type": "stream",
     "text": [
      "Lowest per unit gross income earned is 0.504 from the product line Health and beauty\n"
     ]
    }
   ],
   "source": [
    "abt2= a.loc[a[\"Per unit gross income\"].idxmin()]\n",
    "print(\"Lowest per unit gross income earned is\", abt2[\"Per unit gross income\"], \"from the product line\", abt2[\"Product line\"])"
   ]
  },
  {
   "cell_type": "markdown",
   "id": "2a5bcb67",
   "metadata": {
    "papermill": {
     "duration": 0.012521,
     "end_time": "2024-02-06T20:01:30.806590",
     "exception": false,
     "start_time": "2024-02-06T20:01:30.794069",
     "status": "completed"
    },
    "tags": []
   },
   "source": [
    "**Average gross income earned**"
   ]
  },
  {
   "cell_type": "code",
   "execution_count": 18,
   "id": "c332ee6f",
   "metadata": {
    "execution": {
     "iopub.execute_input": "2024-02-06T20:01:30.834208Z",
     "iopub.status.busy": "2024-02-06T20:01:30.833590Z",
     "iopub.status.idle": "2024-02-06T20:01:30.840573Z",
     "shell.execute_reply": "2024-02-06T20:01:30.839114Z"
    },
    "papermill": {
     "duration": 0.024159,
     "end_time": "2024-02-06T20:01:30.842820",
     "exception": false,
     "start_time": "2024-02-06T20:01:30.818661",
     "status": "completed"
    },
    "tags": []
   },
   "outputs": [
    {
     "data": {
      "text/plain": [
       "15.379369"
      ]
     },
     "execution_count": 18,
     "metadata": {},
     "output_type": "execute_result"
    }
   ],
   "source": [
    "average_gp= a[\"gross income\"].mean()\n",
    "average_gp"
   ]
  },
  {
   "cell_type": "markdown",
   "id": "29a52580",
   "metadata": {
    "papermill": {
     "duration": 0.011515,
     "end_time": "2024-02-06T20:01:30.866463",
     "exception": false,
     "start_time": "2024-02-06T20:01:30.854948",
     "status": "completed"
    },
    "tags": []
   },
   "source": [
    "**Highest rated product lines**"
   ]
  },
  {
   "cell_type": "code",
   "execution_count": 19,
   "id": "b63a2857",
   "metadata": {
    "execution": {
     "iopub.execute_input": "2024-02-06T20:01:30.891674Z",
     "iopub.status.busy": "2024-02-06T20:01:30.891281Z",
     "iopub.status.idle": "2024-02-06T20:01:30.915645Z",
     "shell.execute_reply": "2024-02-06T20:01:30.914311Z"
    },
    "papermill": {
     "duration": 0.040321,
     "end_time": "2024-02-06T20:01:30.918446",
     "exception": false,
     "start_time": "2024-02-06T20:01:30.878125",
     "status": "completed"
    },
    "tags": []
   },
   "outputs": [
    {
     "data": {
      "text/html": [
       "<div>\n",
       "<style scoped>\n",
       "    .dataframe tbody tr th:only-of-type {\n",
       "        vertical-align: middle;\n",
       "    }\n",
       "\n",
       "    .dataframe tbody tr th {\n",
       "        vertical-align: top;\n",
       "    }\n",
       "\n",
       "    .dataframe thead th {\n",
       "        text-align: right;\n",
       "    }\n",
       "</style>\n",
       "<table border=\"1\" class=\"dataframe\">\n",
       "  <thead>\n",
       "    <tr style=\"text-align: right;\">\n",
       "      <th></th>\n",
       "      <th>Branch</th>\n",
       "      <th>City</th>\n",
       "      <th>Customer type</th>\n",
       "      <th>Gender</th>\n",
       "      <th>Product line</th>\n",
       "      <th>Unit price</th>\n",
       "      <th>Quantity</th>\n",
       "      <th>Tax 5%</th>\n",
       "      <th>Total</th>\n",
       "      <th>Date</th>\n",
       "      <th>Time</th>\n",
       "      <th>Payment</th>\n",
       "      <th>cogs</th>\n",
       "      <th>gross margin percentage</th>\n",
       "      <th>gross income</th>\n",
       "      <th>Rating</th>\n",
       "      <th>Per unit gross income</th>\n",
       "    </tr>\n",
       "    <tr>\n",
       "      <th>Invoice ID</th>\n",
       "      <th></th>\n",
       "      <th></th>\n",
       "      <th></th>\n",
       "      <th></th>\n",
       "      <th></th>\n",
       "      <th></th>\n",
       "      <th></th>\n",
       "      <th></th>\n",
       "      <th></th>\n",
       "      <th></th>\n",
       "      <th></th>\n",
       "      <th></th>\n",
       "      <th></th>\n",
       "      <th></th>\n",
       "      <th></th>\n",
       "      <th></th>\n",
       "      <th></th>\n",
       "    </tr>\n",
       "  </thead>\n",
       "  <tbody>\n",
       "    <tr>\n",
       "      <th>347-34-2234</th>\n",
       "      <td>B</td>\n",
       "      <td>Mandalay</td>\n",
       "      <td>Member</td>\n",
       "      <td>Female</td>\n",
       "      <td>Sports and travel</td>\n",
       "      <td>55.07</td>\n",
       "      <td>9</td>\n",
       "      <td>24.7815</td>\n",
       "      <td>520.4115</td>\n",
       "      <td>2019-02-03</td>\n",
       "      <td>13:40</td>\n",
       "      <td>Ewallet</td>\n",
       "      <td>495.63</td>\n",
       "      <td>4.761905</td>\n",
       "      <td>24.7815</td>\n",
       "      <td>10.0</td>\n",
       "      <td>2.7535</td>\n",
       "    </tr>\n",
       "    <tr>\n",
       "      <th>285-68-5083</th>\n",
       "      <td>C</td>\n",
       "      <td>Naypyitaw</td>\n",
       "      <td>Member</td>\n",
       "      <td>Female</td>\n",
       "      <td>Sports and travel</td>\n",
       "      <td>24.74</td>\n",
       "      <td>3</td>\n",
       "      <td>3.7110</td>\n",
       "      <td>77.9310</td>\n",
       "      <td>2019-02-15</td>\n",
       "      <td>17:47</td>\n",
       "      <td>Credit card</td>\n",
       "      <td>74.22</td>\n",
       "      <td>4.761905</td>\n",
       "      <td>3.7110</td>\n",
       "      <td>10.0</td>\n",
       "      <td>1.2370</td>\n",
       "    </tr>\n",
       "    <tr>\n",
       "      <th>725-56-0833</th>\n",
       "      <td>A</td>\n",
       "      <td>Yangon</td>\n",
       "      <td>Normal</td>\n",
       "      <td>Female</td>\n",
       "      <td>Health and beauty</td>\n",
       "      <td>32.32</td>\n",
       "      <td>10</td>\n",
       "      <td>16.1600</td>\n",
       "      <td>339.3600</td>\n",
       "      <td>2019-02-20</td>\n",
       "      <td>16:49</td>\n",
       "      <td>Credit card</td>\n",
       "      <td>323.20</td>\n",
       "      <td>4.761905</td>\n",
       "      <td>16.1600</td>\n",
       "      <td>10.0</td>\n",
       "      <td>1.6160</td>\n",
       "    </tr>\n",
       "    <tr>\n",
       "      <th>866-70-2814</th>\n",
       "      <td>B</td>\n",
       "      <td>Mandalay</td>\n",
       "      <td>Normal</td>\n",
       "      <td>Female</td>\n",
       "      <td>Electronic accessories</td>\n",
       "      <td>52.79</td>\n",
       "      <td>10</td>\n",
       "      <td>26.3950</td>\n",
       "      <td>554.2950</td>\n",
       "      <td>2019-02-25</td>\n",
       "      <td>11:58</td>\n",
       "      <td>Ewallet</td>\n",
       "      <td>527.90</td>\n",
       "      <td>4.761905</td>\n",
       "      <td>26.3950</td>\n",
       "      <td>10.0</td>\n",
       "      <td>2.6395</td>\n",
       "    </tr>\n",
       "    <tr>\n",
       "      <th>423-57-2993</th>\n",
       "      <td>B</td>\n",
       "      <td>Mandalay</td>\n",
       "      <td>Normal</td>\n",
       "      <td>Male</td>\n",
       "      <td>Sports and travel</td>\n",
       "      <td>93.39</td>\n",
       "      <td>6</td>\n",
       "      <td>28.0170</td>\n",
       "      <td>588.3570</td>\n",
       "      <td>2019-03-27</td>\n",
       "      <td>19:18</td>\n",
       "      <td>Ewallet</td>\n",
       "      <td>560.34</td>\n",
       "      <td>4.761905</td>\n",
       "      <td>28.0170</td>\n",
       "      <td>10.0</td>\n",
       "      <td>4.6695</td>\n",
       "    </tr>\n",
       "    <tr>\n",
       "      <th>662-72-2873</th>\n",
       "      <td>A</td>\n",
       "      <td>Yangon</td>\n",
       "      <td>Normal</td>\n",
       "      <td>Female</td>\n",
       "      <td>Food and beverages</td>\n",
       "      <td>40.94</td>\n",
       "      <td>5</td>\n",
       "      <td>10.2350</td>\n",
       "      <td>214.9350</td>\n",
       "      <td>2019-01-06</td>\n",
       "      <td>13:58</td>\n",
       "      <td>Ewallet</td>\n",
       "      <td>204.70</td>\n",
       "      <td>4.761905</td>\n",
       "      <td>10.2350</td>\n",
       "      <td>9.9</td>\n",
       "      <td>2.0470</td>\n",
       "    </tr>\n",
       "    <tr>\n",
       "      <th>109-28-2512</th>\n",
       "      <td>B</td>\n",
       "      <td>Mandalay</td>\n",
       "      <td>Member</td>\n",
       "      <td>Female</td>\n",
       "      <td>Fashion accessories</td>\n",
       "      <td>97.61</td>\n",
       "      <td>6</td>\n",
       "      <td>29.2830</td>\n",
       "      <td>614.9430</td>\n",
       "      <td>2019-01-07</td>\n",
       "      <td>15:01</td>\n",
       "      <td>Ewallet</td>\n",
       "      <td>585.66</td>\n",
       "      <td>4.761905</td>\n",
       "      <td>29.2830</td>\n",
       "      <td>9.9</td>\n",
       "      <td>4.8805</td>\n",
       "    </tr>\n",
       "  </tbody>\n",
       "</table>\n",
       "</div>"
      ],
      "text/plain": [
       "            Branch       City Customer type  Gender            Product line  \\\n",
       "Invoice ID                                                                    \n",
       "347-34-2234      B   Mandalay        Member  Female       Sports and travel   \n",
       "285-68-5083      C  Naypyitaw        Member  Female       Sports and travel   \n",
       "725-56-0833      A     Yangon        Normal  Female       Health and beauty   \n",
       "866-70-2814      B   Mandalay        Normal  Female  Electronic accessories   \n",
       "423-57-2993      B   Mandalay        Normal    Male       Sports and travel   \n",
       "662-72-2873      A     Yangon        Normal  Female      Food and beverages   \n",
       "109-28-2512      B   Mandalay        Member  Female     Fashion accessories   \n",
       "\n",
       "             Unit price  Quantity   Tax 5%     Total       Date   Time  \\\n",
       "Invoice ID                                                               \n",
       "347-34-2234       55.07         9  24.7815  520.4115 2019-02-03  13:40   \n",
       "285-68-5083       24.74         3   3.7110   77.9310 2019-02-15  17:47   \n",
       "725-56-0833       32.32        10  16.1600  339.3600 2019-02-20  16:49   \n",
       "866-70-2814       52.79        10  26.3950  554.2950 2019-02-25  11:58   \n",
       "423-57-2993       93.39         6  28.0170  588.3570 2019-03-27  19:18   \n",
       "662-72-2873       40.94         5  10.2350  214.9350 2019-01-06  13:58   \n",
       "109-28-2512       97.61         6  29.2830  614.9430 2019-01-07  15:01   \n",
       "\n",
       "                 Payment    cogs  gross margin percentage  gross income  \\\n",
       "Invoice ID                                                                \n",
       "347-34-2234      Ewallet  495.63                 4.761905       24.7815   \n",
       "285-68-5083  Credit card   74.22                 4.761905        3.7110   \n",
       "725-56-0833  Credit card  323.20                 4.761905       16.1600   \n",
       "866-70-2814      Ewallet  527.90                 4.761905       26.3950   \n",
       "423-57-2993      Ewallet  560.34                 4.761905       28.0170   \n",
       "662-72-2873      Ewallet  204.70                 4.761905       10.2350   \n",
       "109-28-2512      Ewallet  585.66                 4.761905       29.2830   \n",
       "\n",
       "             Rating  Per unit gross income  \n",
       "Invoice ID                                  \n",
       "347-34-2234    10.0                 2.7535  \n",
       "285-68-5083    10.0                 1.2370  \n",
       "725-56-0833    10.0                 1.6160  \n",
       "866-70-2814    10.0                 2.6395  \n",
       "423-57-2993    10.0                 4.6695  \n",
       "662-72-2873     9.9                 2.0470  \n",
       "109-28-2512     9.9                 4.8805  "
      ]
     },
     "execution_count": 19,
     "metadata": {},
     "output_type": "execute_result"
    }
   ],
   "source": [
    "hr= a.loc[a[\"Rating\"].nlargest(7).index]\n",
    "hr"
   ]
  },
  {
   "cell_type": "code",
   "execution_count": 20,
   "id": "caca2c76",
   "metadata": {
    "execution": {
     "iopub.execute_input": "2024-02-06T20:01:30.944411Z",
     "iopub.status.busy": "2024-02-06T20:01:30.944037Z",
     "iopub.status.idle": "2024-02-06T20:01:30.952439Z",
     "shell.execute_reply": "2024-02-06T20:01:30.951515Z"
    },
    "papermill": {
     "duration": 0.024181,
     "end_time": "2024-02-06T20:01:30.954669",
     "exception": false,
     "start_time": "2024-02-06T20:01:30.930488",
     "status": "completed"
    },
    "tags": []
   },
   "outputs": [
    {
     "name": "stdout",
     "output_type": "stream",
     "text": [
      "The highest rated product lines and the ratings are as follows:\n",
      "\n",
      "                        Product line  Rating\n",
      "Invoice ID                                 \n",
      "866-70-2814  Electronic accessories    10.0\n",
      "725-56-0833       Health and beauty    10.0\n",
      "347-34-2234       Sports and travel    10.0\n",
      "285-68-5083       Sports and travel    10.0\n",
      "423-57-2993       Sports and travel    10.0\n"
     ]
    }
   ],
   "source": [
    "hcols=[\"Product line\",\"Rating\"]\n",
    "det1= hr[hcols].head(5)\n",
    "sorted_det1= det1.sort_values(by= \"Product line\")\n",
    "print(\"The highest rated product lines and the ratings are as follows:\\n\\n\", sorted_det1)"
   ]
  },
  {
   "cell_type": "markdown",
   "id": "f460d6c9",
   "metadata": {
    "papermill": {
     "duration": 0.011664,
     "end_time": "2024-02-06T20:01:30.978526",
     "exception": false,
     "start_time": "2024-02-06T20:01:30.966862",
     "status": "completed"
    },
    "tags": []
   },
   "source": [
    "**Lowest rated product lines**"
   ]
  },
  {
   "cell_type": "code",
   "execution_count": 21,
   "id": "7b544001",
   "metadata": {
    "execution": {
     "iopub.execute_input": "2024-02-06T20:01:31.004943Z",
     "iopub.status.busy": "2024-02-06T20:01:31.004520Z",
     "iopub.status.idle": "2024-02-06T20:01:31.032600Z",
     "shell.execute_reply": "2024-02-06T20:01:31.031616Z"
    },
    "papermill": {
     "duration": 0.044099,
     "end_time": "2024-02-06T20:01:31.034699",
     "exception": false,
     "start_time": "2024-02-06T20:01:30.990600",
     "status": "completed"
    },
    "tags": []
   },
   "outputs": [
    {
     "data": {
      "text/html": [
       "<div>\n",
       "<style scoped>\n",
       "    .dataframe tbody tr th:only-of-type {\n",
       "        vertical-align: middle;\n",
       "    }\n",
       "\n",
       "    .dataframe tbody tr th {\n",
       "        vertical-align: top;\n",
       "    }\n",
       "\n",
       "    .dataframe thead th {\n",
       "        text-align: right;\n",
       "    }\n",
       "</style>\n",
       "<table border=\"1\" class=\"dataframe\">\n",
       "  <thead>\n",
       "    <tr style=\"text-align: right;\">\n",
       "      <th></th>\n",
       "      <th>Branch</th>\n",
       "      <th>City</th>\n",
       "      <th>Customer type</th>\n",
       "      <th>Gender</th>\n",
       "      <th>Product line</th>\n",
       "      <th>Unit price</th>\n",
       "      <th>Quantity</th>\n",
       "      <th>Tax 5%</th>\n",
       "      <th>Total</th>\n",
       "      <th>Date</th>\n",
       "      <th>Time</th>\n",
       "      <th>Payment</th>\n",
       "      <th>cogs</th>\n",
       "      <th>gross margin percentage</th>\n",
       "      <th>gross income</th>\n",
       "      <th>Rating</th>\n",
       "      <th>Per unit gross income</th>\n",
       "    </tr>\n",
       "    <tr>\n",
       "      <th>Invoice ID</th>\n",
       "      <th></th>\n",
       "      <th></th>\n",
       "      <th></th>\n",
       "      <th></th>\n",
       "      <th></th>\n",
       "      <th></th>\n",
       "      <th></th>\n",
       "      <th></th>\n",
       "      <th></th>\n",
       "      <th></th>\n",
       "      <th></th>\n",
       "      <th></th>\n",
       "      <th></th>\n",
       "      <th></th>\n",
       "      <th></th>\n",
       "      <th></th>\n",
       "      <th></th>\n",
       "    </tr>\n",
       "  </thead>\n",
       "  <tbody>\n",
       "    <tr>\n",
       "      <th>845-94-6841</th>\n",
       "      <td>C</td>\n",
       "      <td>Naypyitaw</td>\n",
       "      <td>Member</td>\n",
       "      <td>Female</td>\n",
       "      <td>Food and beverages</td>\n",
       "      <td>72.88</td>\n",
       "      <td>9</td>\n",
       "      <td>32.7960</td>\n",
       "      <td>688.7160</td>\n",
       "      <td>2019-01-08</td>\n",
       "      <td>19:38</td>\n",
       "      <td>Cash</td>\n",
       "      <td>655.92</td>\n",
       "      <td>4.761905</td>\n",
       "      <td>32.7960</td>\n",
       "      <td>4.0</td>\n",
       "      <td>3.6440</td>\n",
       "    </tr>\n",
       "    <tr>\n",
       "      <th>828-46-6863</th>\n",
       "      <td>A</td>\n",
       "      <td>Yangon</td>\n",
       "      <td>Member</td>\n",
       "      <td>Male</td>\n",
       "      <td>Food and beverages</td>\n",
       "      <td>98.53</td>\n",
       "      <td>6</td>\n",
       "      <td>29.5590</td>\n",
       "      <td>620.7390</td>\n",
       "      <td>2019-01-23</td>\n",
       "      <td>11:22</td>\n",
       "      <td>Credit card</td>\n",
       "      <td>591.18</td>\n",
       "      <td>4.761905</td>\n",
       "      <td>29.5590</td>\n",
       "      <td>4.0</td>\n",
       "      <td>4.9265</td>\n",
       "    </tr>\n",
       "    <tr>\n",
       "      <th>730-61-8757</th>\n",
       "      <td>B</td>\n",
       "      <td>Mandalay</td>\n",
       "      <td>Member</td>\n",
       "      <td>Male</td>\n",
       "      <td>Health and beauty</td>\n",
       "      <td>51.13</td>\n",
       "      <td>4</td>\n",
       "      <td>10.2260</td>\n",
       "      <td>214.7460</td>\n",
       "      <td>2019-01-25</td>\n",
       "      <td>10:11</td>\n",
       "      <td>Credit card</td>\n",
       "      <td>204.52</td>\n",
       "      <td>4.761905</td>\n",
       "      <td>10.2260</td>\n",
       "      <td>4.0</td>\n",
       "      <td>2.5565</td>\n",
       "    </tr>\n",
       "    <tr>\n",
       "      <th>836-82-5858</th>\n",
       "      <td>B</td>\n",
       "      <td>Mandalay</td>\n",
       "      <td>Member</td>\n",
       "      <td>Male</td>\n",
       "      <td>Health and beauty</td>\n",
       "      <td>69.37</td>\n",
       "      <td>9</td>\n",
       "      <td>31.2165</td>\n",
       "      <td>655.5465</td>\n",
       "      <td>2019-01-26</td>\n",
       "      <td>19:14</td>\n",
       "      <td>Ewallet</td>\n",
       "      <td>624.33</td>\n",
       "      <td>4.761905</td>\n",
       "      <td>31.2165</td>\n",
       "      <td>4.0</td>\n",
       "      <td>3.4685</td>\n",
       "    </tr>\n",
       "    <tr>\n",
       "      <th>182-69-8360</th>\n",
       "      <td>B</td>\n",
       "      <td>Mandalay</td>\n",
       "      <td>Normal</td>\n",
       "      <td>Female</td>\n",
       "      <td>Electronic accessories</td>\n",
       "      <td>23.65</td>\n",
       "      <td>4</td>\n",
       "      <td>4.7300</td>\n",
       "      <td>99.3300</td>\n",
       "      <td>2019-01-30</td>\n",
       "      <td>13:32</td>\n",
       "      <td>Credit card</td>\n",
       "      <td>94.60</td>\n",
       "      <td>4.761905</td>\n",
       "      <td>4.7300</td>\n",
       "      <td>4.0</td>\n",
       "      <td>1.1825</td>\n",
       "    </tr>\n",
       "    <tr>\n",
       "      <th>885-56-0389</th>\n",
       "      <td>C</td>\n",
       "      <td>Naypyitaw</td>\n",
       "      <td>Member</td>\n",
       "      <td>Male</td>\n",
       "      <td>Fashion accessories</td>\n",
       "      <td>52.35</td>\n",
       "      <td>1</td>\n",
       "      <td>2.6175</td>\n",
       "      <td>54.9675</td>\n",
       "      <td>2019-02-12</td>\n",
       "      <td>17:49</td>\n",
       "      <td>Cash</td>\n",
       "      <td>52.35</td>\n",
       "      <td>4.761905</td>\n",
       "      <td>2.6175</td>\n",
       "      <td>4.0</td>\n",
       "      <td>2.6175</td>\n",
       "    </tr>\n",
       "    <tr>\n",
       "      <th>576-31-4774</th>\n",
       "      <td>B</td>\n",
       "      <td>Mandalay</td>\n",
       "      <td>Normal</td>\n",
       "      <td>Female</td>\n",
       "      <td>Health and beauty</td>\n",
       "      <td>73.41</td>\n",
       "      <td>3</td>\n",
       "      <td>11.0115</td>\n",
       "      <td>231.2415</td>\n",
       "      <td>2019-03-02</td>\n",
       "      <td>13:10</td>\n",
       "      <td>Ewallet</td>\n",
       "      <td>220.23</td>\n",
       "      <td>4.761905</td>\n",
       "      <td>11.0115</td>\n",
       "      <td>4.0</td>\n",
       "      <td>3.6705</td>\n",
       "    </tr>\n",
       "    <tr>\n",
       "      <th>651-96-5970</th>\n",
       "      <td>A</td>\n",
       "      <td>Yangon</td>\n",
       "      <td>Normal</td>\n",
       "      <td>Male</td>\n",
       "      <td>Fashion accessories</td>\n",
       "      <td>46.41</td>\n",
       "      <td>1</td>\n",
       "      <td>2.3205</td>\n",
       "      <td>48.7305</td>\n",
       "      <td>2019-03-03</td>\n",
       "      <td>20:06</td>\n",
       "      <td>Credit card</td>\n",
       "      <td>46.41</td>\n",
       "      <td>4.761905</td>\n",
       "      <td>2.3205</td>\n",
       "      <td>4.0</td>\n",
       "      <td>2.3205</td>\n",
       "    </tr>\n",
       "    <tr>\n",
       "      <th>510-95-6347</th>\n",
       "      <td>B</td>\n",
       "      <td>Mandalay</td>\n",
       "      <td>Member</td>\n",
       "      <td>Female</td>\n",
       "      <td>Food and beverages</td>\n",
       "      <td>48.52</td>\n",
       "      <td>3</td>\n",
       "      <td>7.2780</td>\n",
       "      <td>152.8380</td>\n",
       "      <td>2019-03-05</td>\n",
       "      <td>18:17</td>\n",
       "      <td>Ewallet</td>\n",
       "      <td>145.56</td>\n",
       "      <td>4.761905</td>\n",
       "      <td>7.2780</td>\n",
       "      <td>4.0</td>\n",
       "      <td>2.4260</td>\n",
       "    </tr>\n",
       "    <tr>\n",
       "      <th>730-50-9884</th>\n",
       "      <td>C</td>\n",
       "      <td>Naypyitaw</td>\n",
       "      <td>Normal</td>\n",
       "      <td>Female</td>\n",
       "      <td>Sports and travel</td>\n",
       "      <td>83.06</td>\n",
       "      <td>7</td>\n",
       "      <td>29.0710</td>\n",
       "      <td>610.4910</td>\n",
       "      <td>2019-03-05</td>\n",
       "      <td>14:31</td>\n",
       "      <td>Ewallet</td>\n",
       "      <td>581.42</td>\n",
       "      <td>4.761905</td>\n",
       "      <td>29.0710</td>\n",
       "      <td>4.0</td>\n",
       "      <td>4.1530</td>\n",
       "    </tr>\n",
       "    <tr>\n",
       "      <th>131-15-8856</th>\n",
       "      <td>C</td>\n",
       "      <td>Naypyitaw</td>\n",
       "      <td>Member</td>\n",
       "      <td>Female</td>\n",
       "      <td>Food and beverages</td>\n",
       "      <td>72.52</td>\n",
       "      <td>8</td>\n",
       "      <td>29.0080</td>\n",
       "      <td>609.1680</td>\n",
       "      <td>2019-03-30</td>\n",
       "      <td>19:26</td>\n",
       "      <td>Credit card</td>\n",
       "      <td>580.16</td>\n",
       "      <td>4.761905</td>\n",
       "      <td>29.0080</td>\n",
       "      <td>4.0</td>\n",
       "      <td>3.6260</td>\n",
       "    </tr>\n",
       "    <tr>\n",
       "      <th>725-32-9708</th>\n",
       "      <td>B</td>\n",
       "      <td>Mandalay</td>\n",
       "      <td>Member</td>\n",
       "      <td>Female</td>\n",
       "      <td>Fashion accessories</td>\n",
       "      <td>68.71</td>\n",
       "      <td>4</td>\n",
       "      <td>13.7420</td>\n",
       "      <td>288.5820</td>\n",
       "      <td>2019-01-04</td>\n",
       "      <td>19:01</td>\n",
       "      <td>Cash</td>\n",
       "      <td>274.84</td>\n",
       "      <td>4.761905</td>\n",
       "      <td>13.7420</td>\n",
       "      <td>4.1</td>\n",
       "      <td>3.4355</td>\n",
       "    </tr>\n",
       "  </tbody>\n",
       "</table>\n",
       "</div>"
      ],
      "text/plain": [
       "            Branch       City Customer type  Gender            Product line  \\\n",
       "Invoice ID                                                                    \n",
       "845-94-6841      C  Naypyitaw        Member  Female      Food and beverages   \n",
       "828-46-6863      A     Yangon        Member    Male      Food and beverages   \n",
       "730-61-8757      B   Mandalay        Member    Male       Health and beauty   \n",
       "836-82-5858      B   Mandalay        Member    Male       Health and beauty   \n",
       "182-69-8360      B   Mandalay        Normal  Female  Electronic accessories   \n",
       "885-56-0389      C  Naypyitaw        Member    Male     Fashion accessories   \n",
       "576-31-4774      B   Mandalay        Normal  Female       Health and beauty   \n",
       "651-96-5970      A     Yangon        Normal    Male     Fashion accessories   \n",
       "510-95-6347      B   Mandalay        Member  Female      Food and beverages   \n",
       "730-50-9884      C  Naypyitaw        Normal  Female       Sports and travel   \n",
       "131-15-8856      C  Naypyitaw        Member  Female      Food and beverages   \n",
       "725-32-9708      B   Mandalay        Member  Female     Fashion accessories   \n",
       "\n",
       "             Unit price  Quantity   Tax 5%     Total       Date   Time  \\\n",
       "Invoice ID                                                               \n",
       "845-94-6841       72.88         9  32.7960  688.7160 2019-01-08  19:38   \n",
       "828-46-6863       98.53         6  29.5590  620.7390 2019-01-23  11:22   \n",
       "730-61-8757       51.13         4  10.2260  214.7460 2019-01-25  10:11   \n",
       "836-82-5858       69.37         9  31.2165  655.5465 2019-01-26  19:14   \n",
       "182-69-8360       23.65         4   4.7300   99.3300 2019-01-30  13:32   \n",
       "885-56-0389       52.35         1   2.6175   54.9675 2019-02-12  17:49   \n",
       "576-31-4774       73.41         3  11.0115  231.2415 2019-03-02  13:10   \n",
       "651-96-5970       46.41         1   2.3205   48.7305 2019-03-03  20:06   \n",
       "510-95-6347       48.52         3   7.2780  152.8380 2019-03-05  18:17   \n",
       "730-50-9884       83.06         7  29.0710  610.4910 2019-03-05  14:31   \n",
       "131-15-8856       72.52         8  29.0080  609.1680 2019-03-30  19:26   \n",
       "725-32-9708       68.71         4  13.7420  288.5820 2019-01-04  19:01   \n",
       "\n",
       "                 Payment    cogs  gross margin percentage  gross income  \\\n",
       "Invoice ID                                                                \n",
       "845-94-6841         Cash  655.92                 4.761905       32.7960   \n",
       "828-46-6863  Credit card  591.18                 4.761905       29.5590   \n",
       "730-61-8757  Credit card  204.52                 4.761905       10.2260   \n",
       "836-82-5858      Ewallet  624.33                 4.761905       31.2165   \n",
       "182-69-8360  Credit card   94.60                 4.761905        4.7300   \n",
       "885-56-0389         Cash   52.35                 4.761905        2.6175   \n",
       "576-31-4774      Ewallet  220.23                 4.761905       11.0115   \n",
       "651-96-5970  Credit card   46.41                 4.761905        2.3205   \n",
       "510-95-6347      Ewallet  145.56                 4.761905        7.2780   \n",
       "730-50-9884      Ewallet  581.42                 4.761905       29.0710   \n",
       "131-15-8856  Credit card  580.16                 4.761905       29.0080   \n",
       "725-32-9708         Cash  274.84                 4.761905       13.7420   \n",
       "\n",
       "             Rating  Per unit gross income  \n",
       "Invoice ID                                  \n",
       "845-94-6841     4.0                 3.6440  \n",
       "828-46-6863     4.0                 4.9265  \n",
       "730-61-8757     4.0                 2.5565  \n",
       "836-82-5858     4.0                 3.4685  \n",
       "182-69-8360     4.0                 1.1825  \n",
       "885-56-0389     4.0                 2.6175  \n",
       "576-31-4774     4.0                 3.6705  \n",
       "651-96-5970     4.0                 2.3205  \n",
       "510-95-6347     4.0                 2.4260  \n",
       "730-50-9884     4.0                 4.1530  \n",
       "131-15-8856     4.0                 3.6260  \n",
       "725-32-9708     4.1                 3.4355  "
      ]
     },
     "execution_count": 21,
     "metadata": {},
     "output_type": "execute_result"
    }
   ],
   "source": [
    "lr= a.loc[a[\"Rating\"].nsmallest(12).index]\n",
    "lr"
   ]
  },
  {
   "cell_type": "code",
   "execution_count": 22,
   "id": "e6c97ea3",
   "metadata": {
    "execution": {
     "iopub.execute_input": "2024-02-06T20:01:31.063859Z",
     "iopub.status.busy": "2024-02-06T20:01:31.063426Z",
     "iopub.status.idle": "2024-02-06T20:01:31.074441Z",
     "shell.execute_reply": "2024-02-06T20:01:31.072818Z"
    },
    "papermill": {
     "duration": 0.029515,
     "end_time": "2024-02-06T20:01:31.077674",
     "exception": false,
     "start_time": "2024-02-06T20:01:31.048159",
     "status": "completed"
    },
    "tags": []
   },
   "outputs": [
    {
     "name": "stdout",
     "output_type": "stream",
     "text": [
      "The lowest rated product lines and the ratings are as follows:\n",
      "\n",
      "                        Product line  Rating\n",
      "Invoice ID                                 \n",
      "182-69-8360  Electronic accessories     4.0\n",
      "885-56-0389     Fashion accessories     4.0\n",
      "651-96-5970     Fashion accessories     4.0\n",
      "845-94-6841      Food and beverages     4.0\n",
      "828-46-6863      Food and beverages     4.0\n",
      "510-95-6347      Food and beverages     4.0\n",
      "131-15-8856      Food and beverages     4.0\n",
      "730-61-8757       Health and beauty     4.0\n",
      "836-82-5858       Health and beauty     4.0\n",
      "576-31-4774       Health and beauty     4.0\n",
      "730-50-9884       Sports and travel     4.0\n"
     ]
    }
   ],
   "source": [
    "lcols=[\"Product line\",\"Rating\"]\n",
    "det2= lr[lcols].head(11)\n",
    "sorted_det2= det2.sort_values(by= \"Product line\")\n",
    "print(\"The lowest rated product lines and the ratings are as follows:\\n\\n\", sorted_det2)"
   ]
  },
  {
   "cell_type": "markdown",
   "id": "c01a73f5",
   "metadata": {
    "papermill": {
     "duration": 0.014026,
     "end_time": "2024-02-06T20:01:31.105433",
     "exception": false,
     "start_time": "2024-02-06T20:01:31.091407",
     "status": "completed"
    },
    "tags": []
   },
   "source": [
    "# 1. City-wise gross income earned"
   ]
  },
  {
   "cell_type": "code",
   "execution_count": 23,
   "id": "4ea1764f",
   "metadata": {
    "execution": {
     "iopub.execute_input": "2024-02-06T20:01:31.133999Z",
     "iopub.status.busy": "2024-02-06T20:01:31.133608Z",
     "iopub.status.idle": "2024-02-06T20:01:31.142355Z",
     "shell.execute_reply": "2024-02-06T20:01:31.140573Z"
    },
    "papermill": {
     "duration": 0.026058,
     "end_time": "2024-02-06T20:01:31.145049",
     "exception": false,
     "start_time": "2024-02-06T20:01:31.118991",
     "status": "completed"
    },
    "tags": []
   },
   "outputs": [
    {
     "name": "stdout",
     "output_type": "stream",
     "text": [
      "City\n",
      "Mandalay     5057.0320\n",
      "Naypyitaw    5265.1765\n",
      "Yangon       5057.1605\n",
      "Name: gross income, dtype: float64\n"
     ]
    }
   ],
   "source": [
    "s= a.groupby(\"City\")[\"gross income\"].sum()\n",
    "print (s)"
   ]
  },
  {
   "cell_type": "code",
   "execution_count": 24,
   "id": "33af4d76",
   "metadata": {
    "execution": {
     "iopub.execute_input": "2024-02-06T20:01:31.177689Z",
     "iopub.status.busy": "2024-02-06T20:01:31.176012Z",
     "iopub.status.idle": "2024-02-06T20:01:31.353333Z",
     "shell.execute_reply": "2024-02-06T20:01:31.352250Z"
    },
    "papermill": {
     "duration": 0.195618,
     "end_time": "2024-02-06T20:01:31.355510",
     "exception": false,
     "start_time": "2024-02-06T20:01:31.159892",
     "status": "completed"
    },
    "tags": []
   },
   "outputs": [
    {
     "data": {
      "image/png": "[encoded data removed]",
      "text/plain": [
       "<Figure size 640x480 with 1 Axes>"
      ]
     },
     "metadata": {},
     "output_type": "display_data"
    }
   ],
   "source": [
    "plt.bar(a[\"City\"].unique(), s, edgecolor=\"black\", color= \"lightsteelblue\")\n",
    "plt.show()"
   ]
  },
  {
   "cell_type": "markdown",
   "id": "38478c6f",
   "metadata": {
    "papermill": {
     "duration": 0.012695,
     "end_time": "2024-02-06T20:01:31.382566",
     "exception": false,
     "start_time": "2024-02-06T20:01:31.369871",
     "status": "completed"
    },
    "tags": []
   },
   "source": [
    "Findings in (1):\n",
    "* The gross income earned by each city branch is more or less the same\n",
    "* City Yangon has the highest gross income earned"
   ]
  },
  {
   "cell_type": "markdown",
   "id": "4583a1a6",
   "metadata": {
    "papermill": {
     "duration": 0.012426,
     "end_time": "2024-02-06T20:01:31.407773",
     "exception": false,
     "start_time": "2024-02-06T20:01:31.395347",
     "status": "completed"
    },
    "tags": []
   },
   "source": [
    "# 2. Customer Type and Gender Distribution"
   ]
  },
  {
   "cell_type": "code",
   "execution_count": 25,
   "id": "9f93a15b",
   "metadata": {
    "execution": {
     "iopub.execute_input": "2024-02-06T20:01:31.434993Z",
     "iopub.status.busy": "2024-02-06T20:01:31.434201Z",
     "iopub.status.idle": "2024-02-06T20:01:31.449189Z",
     "shell.execute_reply": "2024-02-06T20:01:31.447568Z"
    },
    "papermill": {
     "duration": 0.031396,
     "end_time": "2024-02-06T20:01:31.451633",
     "exception": false,
     "start_time": "2024-02-06T20:01:31.420237",
     "status": "completed"
    },
    "tags": []
   },
   "outputs": [
    {
     "data": {
      "text/plain": [
       "Customer type  Gender\n",
       "Member         Female    261\n",
       "               Male      240\n",
       "Normal         Female    240\n",
       "               Male      259\n",
       "dtype: int64"
      ]
     },
     "execution_count": 25,
     "metadata": {},
     "output_type": "execute_result"
    }
   ],
   "source": [
    "gp= a.groupby([\"Customer type\", \"Gender\"]).size()\n",
    "gp"
   ]
  },
  {
   "cell_type": "code",
   "execution_count": 26,
   "id": "01f48752",
   "metadata": {
    "execution": {
     "iopub.execute_input": "2024-02-06T20:01:31.481850Z",
     "iopub.status.busy": "2024-02-06T20:01:31.481280Z",
     "iopub.status.idle": "2024-02-06T20:01:31.698776Z",
     "shell.execute_reply": "2024-02-06T20:01:31.697717Z"
    },
    "papermill": {
     "duration": 0.235608,
     "end_time": "2024-02-06T20:01:31.700693",
     "exception": false,
     "start_time": "2024-02-06T20:01:31.465085",
     "status": "completed"
    },
    "tags": []
   },
   "outputs": [
    {
     "data": {
      "image/png": "[encoded data removed]",
      "text/plain": [
       "<Figure size 640x480 with 1 Axes>"
      ]
     },
     "metadata": {},
     "output_type": "display_data"
    }
   ],
   "source": [
    "gp.plot(kind= \"bar\", color=[\"pink\",\"lightblue\"], edgecolor=\"black\")\n",
    "plt.title(\"Customer Type and Gender Distribution\")\n",
    "plt.show()"
   ]
  },
  {
   "cell_type": "markdown",
   "id": "6644f4b4",
   "metadata": {
    "papermill": {
     "duration": 0.013888,
     "end_time": "2024-02-06T20:01:31.729481",
     "exception": false,
     "start_time": "2024-02-06T20:01:31.715593",
     "status": "completed"
    },
    "tags": []
   },
   "source": [
    "Findings in (2):\n",
    "* Highest number of purchases is done by Female members followed by normal Male customers.\n",
    "* The distribution is more or less equal"
   ]
  },
  {
   "cell_type": "markdown",
   "id": "c8711b9a",
   "metadata": {
    "papermill": {
     "duration": 0.013596,
     "end_time": "2024-02-06T20:01:31.757482",
     "exception": false,
     "start_time": "2024-02-06T20:01:31.743886",
     "status": "completed"
    },
    "tags": []
   },
   "source": [
    "# 3. Gross income trend (1st Jan 2019 - 1st Apr 2019)"
   ]
  },
  {
   "cell_type": "code",
   "execution_count": 27,
   "id": "8ad2b635",
   "metadata": {
    "execution": {
     "iopub.execute_input": "2024-02-06T20:01:31.786845Z",
     "iopub.status.busy": "2024-02-06T20:01:31.786455Z",
     "iopub.status.idle": "2024-02-06T20:01:31.795455Z",
     "shell.execute_reply": "2024-02-06T20:01:31.794090Z"
    },
    "papermill": {
     "duration": 0.026011,
     "end_time": "2024-02-06T20:01:31.797339",
     "exception": false,
     "start_time": "2024-02-06T20:01:31.771328",
     "status": "completed"
    },
    "tags": []
   },
   "outputs": [
    {
     "name": "stdout",
     "output_type": "stream",
     "text": [
      "Date\n",
      "2019-03-09    355.9070\n",
      "2019-02-07    344.2005\n",
      "2019-03-14    343.5540\n",
      "2019-02-15    325.2755\n",
      "2019-03-02    312.3955\n",
      "                ...   \n",
      "2019-02-18     71.2395\n",
      "2019-03-07     68.4885\n",
      "2019-02-21     66.3685\n",
      "2019-03-18     61.5635\n",
      "2019-02-13     44.4875\n",
      "Name: gross income, Length: 89, dtype: float64\n"
     ]
    }
   ],
   "source": [
    "s1= a.groupby(\"Date\")[\"gross income\"].sum()\n",
    "ss1= s1.sort_values(ascending= False)\n",
    "print (ss1)"
   ]
  },
  {
   "cell_type": "code",
   "execution_count": 28,
   "id": "03c4870f",
   "metadata": {
    "execution": {
     "iopub.execute_input": "2024-02-06T20:01:31.826078Z",
     "iopub.status.busy": "2024-02-06T20:01:31.825137Z",
     "iopub.status.idle": "2024-02-06T20:01:32.114578Z",
     "shell.execute_reply": "2024-02-06T20:01:32.113136Z"
    },
    "papermill": {
     "duration": 0.305839,
     "end_time": "2024-02-06T20:01:32.116701",
     "exception": false,
     "start_time": "2024-02-06T20:01:31.810862",
     "status": "completed"
    },
    "tags": []
   },
   "outputs": [
    {
     "data": {
      "image/png": "[encoded data removed]",
      "text/plain": [
       "<Figure size 1200x800 with 1 Axes>"
      ]
     },
     "metadata": {},
     "output_type": "display_data"
    }
   ],
   "source": [
    "plt.figure(figsize=(12,8))\n",
    "plt.plot(a[\"Date\"].unique(), s1, color= \"mediumseagreen\")\n",
    "plt.title(\"Gross income trend line\")\n",
    "plt.show()"
   ]
  },
  {
   "cell_type": "markdown",
   "id": "1244f37e",
   "metadata": {
    "papermill": {
     "duration": 0.014737,
     "end_time": "2024-02-06T20:01:32.147270",
     "exception": false,
     "start_time": "2024-02-06T20:01:32.132533",
     "status": "completed"
    },
    "tags": []
   },
   "source": [
    "Findings in (3):\n",
    "* There is a regular pattern seen in the trend\n",
    "* Highest gross income is reached in first week of March 2019\n",
    "* Lowest gross income is touched in second week of February 2019"
   ]
  },
  {
   "cell_type": "markdown",
   "id": "44fd5300",
   "metadata": {
    "papermill": {
     "duration": 0.015101,
     "end_time": "2024-02-06T20:01:32.177114",
     "exception": false,
     "start_time": "2024-02-06T20:01:32.162013",
     "status": "completed"
    },
    "tags": []
   },
   "source": [
    "# 4. Gross income earned wrt. product line"
   ]
  },
  {
   "cell_type": "code",
   "execution_count": 29,
   "id": "e175838f",
   "metadata": {
    "execution": {
     "iopub.execute_input": "2024-02-06T20:01:32.209979Z",
     "iopub.status.busy": "2024-02-06T20:01:32.209050Z",
     "iopub.status.idle": "2024-02-06T20:01:32.217813Z",
     "shell.execute_reply": "2024-02-06T20:01:32.216860Z"
    },
    "papermill": {
     "duration": 0.027523,
     "end_time": "2024-02-06T20:01:32.219595",
     "exception": false,
     "start_time": "2024-02-06T20:01:32.192072",
     "status": "completed"
    },
    "tags": []
   },
   "outputs": [
    {
     "data": {
      "text/plain": [
       "Product line\n",
       "Electronic accessories    2587.5015\n",
       "Fashion accessories       2585.9950\n",
       "Food and beverages        2673.5640\n",
       "Health and beauty         2342.5590\n",
       "Home and lifestyle        2564.8530\n",
       "Sports and travel         2624.8965\n",
       "Name: gross income, dtype: float64"
      ]
     },
     "execution_count": 29,
     "metadata": {},
     "output_type": "execute_result"
    }
   ],
   "source": [
    "s2= a.groupby(\"Product line\")[\"gross income\"].sum()\n",
    "s2"
   ]
  },
  {
   "cell_type": "code",
   "execution_count": 30,
   "id": "7083e220",
   "metadata": {
    "execution": {
     "iopub.execute_input": "2024-02-06T20:01:32.250665Z",
     "iopub.status.busy": "2024-02-06T20:01:32.250161Z",
     "iopub.status.idle": "2024-02-06T20:01:32.394299Z",
     "shell.execute_reply": "2024-02-06T20:01:32.393438Z"
    },
    "papermill": {
     "duration": 0.16222,
     "end_time": "2024-02-06T20:01:32.396306",
     "exception": false,
     "start_time": "2024-02-06T20:01:32.234086",
     "status": "completed"
    },
    "tags": []
   },
   "outputs": [
    {
     "data": {
      "image/png": "[encoded data removed]",
      "text/plain": [
       "<Figure size 640x480 with 1 Axes>"
      ]
     },
     "metadata": {},
     "output_type": "display_data"
    }
   ],
   "source": [
    "plt.pie(s2, autopct='%.1f%%', labels= s2.index, colors=[\"lightgrey\",\"lightyellow\",\"lightgreen\",\"pink\",\"lavender\",\"Skyblue\"])\n",
    "plt.title(\"Distribution of Gross Income by Product Line\")\n",
    "plt.show()"
   ]
  },
  {
   "cell_type": "markdown",
   "id": "e684867e",
   "metadata": {
    "papermill": {
     "duration": 0.019124,
     "end_time": "2024-02-06T20:01:32.436041",
     "exception": false,
     "start_time": "2024-02-06T20:01:32.416917",
     "status": "completed"
    },
    "tags": []
   },
   "source": [
    "Findings in (4):\n",
    "* Gross income distribution among product lines are more or less equal\n",
    "* Food and beverages has the highest gross income earned\n",
    "* Health and beauty has the lowest gross income earned"
   ]
  },
  {
   "cell_type": "markdown",
   "id": "50fd5424",
   "metadata": {
    "papermill": {
     "duration": 0.016667,
     "end_time": "2024-02-06T20:01:32.472047",
     "exception": false,
     "start_time": "2024-02-06T20:01:32.455380",
     "status": "completed"
    },
    "tags": []
   },
   "source": [
    "# 5. Payment method distribution"
   ]
  },
  {
   "cell_type": "code",
   "execution_count": 31,
   "id": "2864ff53",
   "metadata": {
    "execution": {
     "iopub.execute_input": "2024-02-06T20:01:32.505059Z",
     "iopub.status.busy": "2024-02-06T20:01:32.504672Z",
     "iopub.status.idle": "2024-02-06T20:01:32.515005Z",
     "shell.execute_reply": "2024-02-06T20:01:32.513179Z"
    },
    "papermill": {
     "duration": 0.030341,
     "end_time": "2024-02-06T20:01:32.517899",
     "exception": false,
     "start_time": "2024-02-06T20:01:32.487558",
     "status": "completed"
    },
    "tags": []
   },
   "outputs": [
    {
     "data": {
      "text/plain": [
       "Payment\n",
       "Ewallet        345\n",
       "Cash           344\n",
       "Credit card    311\n",
       "Name: count, dtype: int64"
      ]
     },
     "execution_count": 31,
     "metadata": {},
     "output_type": "execute_result"
    }
   ],
   "source": [
    "pay= a[\"Payment\"].value_counts()\n",
    "pay"
   ]
  },
  {
   "cell_type": "code",
   "execution_count": 32,
   "id": "5eca9753",
   "metadata": {
    "execution": {
     "iopub.execute_input": "2024-02-06T20:01:32.551086Z",
     "iopub.status.busy": "2024-02-06T20:01:32.550145Z",
     "iopub.status.idle": "2024-02-06T20:01:32.663827Z",
     "shell.execute_reply": "2024-02-06T20:01:32.663039Z"
    },
    "papermill": {
     "duration": 0.132598,
     "end_time": "2024-02-06T20:01:32.666214",
     "exception": false,
     "start_time": "2024-02-06T20:01:32.533616",
     "status": "completed"
    },
    "tags": []
   },
   "outputs": [
    {
     "data": {
      "image/png": "[encoded data removed]",
      "text/plain": [
       "<Figure size 640x480 with 1 Axes>"
      ]
     },
     "metadata": {},
     "output_type": "display_data"
    }
   ],
   "source": [
    "plt.pie(pay, autopct='%.1f%%', labels= pay.index, colors=[\"lightcoral\",\"indianred\",\"brown\"])\n",
    "plt.title(\"Payment Method Distribution\")\n",
    "plt.show()"
   ]
  },
  {
   "cell_type": "markdown",
   "id": "fe9b867d",
   "metadata": {
    "papermill": {
     "duration": 0.01994,
     "end_time": "2024-02-06T20:01:32.707657",
     "exception": false,
     "start_time": "2024-02-06T20:01:32.687717",
     "status": "completed"
    },
    "tags": []
   },
   "source": [
    "Findings in (5):\n",
    "* Payment method distribution is more or less equal"
   ]
  },
  {
   "cell_type": "markdown",
   "id": "ac77fd53",
   "metadata": {
    "papermill": {
     "duration": 0.019326,
     "end_time": "2024-02-06T20:01:32.747296",
     "exception": false,
     "start_time": "2024-02-06T20:01:32.727970",
     "status": "completed"
    },
    "tags": []
   },
   "source": [
    "# Conclusion\n",
    "The analysis of the \"Supermarket Sales\" dataset provides insights into the dynamics of supermarket sales. After cleaning the data and describing the data briefly, we have done detailed analysis on:\n",
    "1. City-wise gross income\n",
    "2. Customer Type and Gender Distribution\n",
    "3. Gross income trend (1st Jan 2019–1st Apr 2019)\n",
    "4. Gross income earned wrt. product line\n",
    "5. Payment method distribution"
   ]
  }
 ],
 "metadata": {
  "kaggle": {
   "accelerator": "none",
   "dataSources": [
    {
     "datasetId": 205965,
     "sourceId": 451952,
     "sourceType": "datasetVersion"
    }
   ],
   "dockerImageVersionId": 30635,
   "isGpuEnabled": false,
   "isInternetEnabled": true,
   "language": "python",
   "sourceType": "notebook"
  },
  "kernelspec": {
   "display_name": "Python 3",
   "language": "python",
   "name": "python3"
  },
  "language_info": {
   "codemirror_mode": {
    "name": "ipython",
    "version": 3
   },
   "file_extension": ".py",
   "mimetype": "text/x-python",
   "name": "python",
   "nbconvert_exporter": "python",
   "pygments_lexer": "ipython3",
   "version": "3.10.12"
  },
  "papermill": {
   "default_parameters": {},
   "duration": 9.028189,
   "end_time": "2024-02-06T20:01:33.283496",
   "environment_variables": {},
   "exception": null,
   "input_path": "__notebook__.ipynb",
   "output_path": "__notebook__.ipynb",
   "parameters": {},
   "start_time": "2024-02-06T20:01:24.255307",
   "version": "2.4.0"
  }
 },
 "nbformat": 4,
 "nbformat_minor": 5
}
